{
  "nbformat": 4,
  "nbformat_minor": 0,
  "metadata": {
    "accelerator": "GPU",
    "colab": {
      "name": "NLP Course - Week 3 Exercise Question.ipynb",
      "provenance": [],
      "toc_visible": true
    },
    "kernelspec": {
      "display_name": "Python 3",
      "name": "python3"
    }
  },
  "cells": [
    {
      "cell_type": "code",
      "metadata": {
        "id": "zX4Kg8DUTKWO"
      },
      "source": [
        "#@title Licensed under the Apache License, Version 2.0 (the \"License\");\n",
        "# you may not use this file except in compliance with the License.\n",
        "# You may obtain a copy of the License at\n",
        "#\n",
        "# https://www.apache.org/licenses/LICENSE-2.0\n",
        "#\n",
        "# Unless required by applicable law or agreed to in writing, software\n",
        "# distributed under the License is distributed on an \"AS IS\" BASIS,\n",
        "# WITHOUT WARRANTIES OR CONDITIONS OF ANY KIND, either express or implied.\n",
        "# See the License for the specific language governing permissions and\n",
        "# limitations under the License."
      ],
      "execution_count": 1,
      "outputs": []
    },
    {
      "cell_type": "code",
      "metadata": {
        "id": "hmA6EzkQJ5jt"
      },
      "source": [
        "import json\n",
        "import tensorflow as tf\n",
        "import csv\n",
        "import random\n",
        "import numpy as np\n",
        "\n",
        "from tensorflow.keras.preprocessing.text import Tokenizer\n",
        "from tensorflow.keras.preprocessing.sequence import pad_sequences\n",
        "from tensorflow.keras.utils import to_categorical\n",
        "from tensorflow.keras import regularizers\n",
        "\n",
        "\n",
        "embedding_dim = 100\n",
        "max_length = 16\n",
        "trunc_type='post'\n",
        "padding_type='post'\n",
        "oov_tok = \"<OOV>\"\n",
        "training_size= 16000 #Your dataset size here. Experiment using smaller values (i.e. 16000), but don't forget to train on at least 160000 to see the best effects\n",
        "test_portion=.1\n",
        "\n",
        "corpus = []\n"
      ],
      "execution_count": 27,
      "outputs": []
    },
    {
      "cell_type": "code",
      "metadata": {
        "colab": {
          "base_uri": "https://localhost:8080/"
        },
        "id": "bM0l_dORKqE0",
        "outputId": "00c754b6-85b8-4b6b-d781-d74c00662b6d"
      },
      "source": [
        "# Note that I cleaned the Stanford dataset to remove LATIN1 encoding to make it easier for Python CSV reader\n",
        "# You can do that yourself with:\n",
        "# iconv -f LATIN1 -t UTF8 training.1600000.processed.noemoticon.csv -o training_cleaned.csv\n",
        "# I then hosted it on my site to make it easier to use in this notebook\n",
        "\n",
        "!wget --no-check-certificate \\\n",
        "    https://storage.googleapis.com/laurencemoroney-blog.appspot.com/training_cleaned.csv \\\n",
        "    -O /tmp/training_cleaned.csv\n",
        "\n",
        "num_sentences = 0\n",
        "\n",
        "with open(\"/tmp/training_cleaned.csv\") as csvfile:\n",
        "    reader = csv.reader(csvfile, delimiter=',')\n",
        "    for row in reader:\n",
        "      # Your Code here. Create list items where the first item is the text, found in row[5], and the second is the label. Note that the label is a '0' or a '4' in the text. When it's the former, make\n",
        "      # your label to be 0, otherwise 1. Keep a count of the number of sentences in num_sentences\n",
        "        list_item=[]\n",
        "        # YOUR CODE HERE\n",
        "        list_item.append(row[5])\n",
        "        label = 0 if row[0] == '0' else 1\n",
        "        list_item.append(label)\n",
        "        num_sentences = num_sentences + 1\n",
        "        corpus.append(list_item)\n"
      ],
      "execution_count": 28,
      "outputs": [
        {
          "output_type": "stream",
          "text": [
            "--2020-12-09 09:26:27--  https://storage.googleapis.com/laurencemoroney-blog.appspot.com/training_cleaned.csv\n",
            "Resolving storage.googleapis.com (storage.googleapis.com)... 172.217.2.112, 172.217.7.208, 142.250.73.208, ...\n",
            "Connecting to storage.googleapis.com (storage.googleapis.com)|172.217.2.112|:443... connected.\n",
            "HTTP request sent, awaiting response... 200 OK\n",
            "Length: 238942690 (228M) [application/octet-stream]\n",
            "Saving to: ‘/tmp/training_cleaned.csv’\n",
            "\n",
            "/tmp/training_clean 100%[===================>] 227.87M   302MB/s    in 0.8s    \n",
            "\n",
            "2020-12-09 09:26:28 (302 MB/s) - ‘/tmp/training_cleaned.csv’ saved [238942690/238942690]\n",
            "\n"
          ],
          "name": "stdout"
        }
      ]
    },
    {
      "cell_type": "code",
      "metadata": {
        "colab": {
          "base_uri": "https://localhost:8080/"
        },
        "id": "3kxblBUjEUX-",
        "outputId": "be86ca57-918c-4253-c0ea-dd836f503a3d"
      },
      "source": [
        "print(num_sentences)\n",
        "print(len(corpus))\n",
        "print(corpus[1])\n",
        "\n",
        "# Expected Output:\n",
        "# 1600000\n",
        "# 1600000\n",
        "# [\"is upset that he can't update his Facebook by texting it... and might cry as a result  School today also. Blah!\", 0]"
      ],
      "execution_count": 29,
      "outputs": [
        {
          "output_type": "stream",
          "text": [
            "1600000\n",
            "1600000\n",
            "[\"is upset that he can't update his Facebook by texting it... and might cry as a result  School today also. Blah!\", 0]\n"
          ],
          "name": "stdout"
        }
      ]
    },
    {
      "cell_type": "code",
      "metadata": {
        "id": "ohOGz24lsNAD"
      },
      "source": [
        "sentences=[]\n",
        "labels=[]\n",
        "random.shuffle(corpus)\n",
        "for x in range(training_size):\n",
        "    sentences.append(corpus[x][0])\n",
        "    labels.append(corpus[x][1])\n",
        "\n",
        "\n",
        "tokenizer = Tokenizer(oov_token=oov_tok)\n",
        "tokenizer.fit_on_texts(sentences)\n",
        "\n",
        "word_index = tokenizer.word_index\n",
        "vocab_size=len(word_index)\n",
        "\n",
        "sequences = tokenizer.texts_to_sequences(sentences)\n",
        "padded = pad_sequences(\n",
        "    sequences,\n",
        "    maxlen=max_length,\n",
        "    padding=padding_type,\n",
        "    truncating=trunc_type\n",
        ")\n",
        "\n",
        "split = int(test_portion * training_size)\n",
        "\n",
        "test_sequences = np.array(padded[:split])\n",
        "training_sequences = np.array(padded[split:training_size])\n",
        "test_labels = np.array(labels[:split])\n",
        "training_labels = np.array(labels[split:training_size])"
      ],
      "execution_count": 30,
      "outputs": []
    },
    {
      "cell_type": "code",
      "metadata": {
        "colab": {
          "base_uri": "https://localhost:8080/"
        },
        "id": "gIrtRem1En3N",
        "outputId": "dc2a1c3f-afb9-4e28-ed27-ea4e27e336cd"
      },
      "source": [
        "print(vocab_size)\n",
        "print(word_index['i'])\n",
        "# Expected Output\n",
        "# 138858\n",
        "# 1"
      ],
      "execution_count": 31,
      "outputs": [
        {
          "output_type": "stream",
          "text": [
            "26480\n",
            "2\n"
          ],
          "name": "stdout"
        }
      ]
    },
    {
      "cell_type": "code",
      "metadata": {
        "colab": {
          "base_uri": "https://localhost:8080/"
        },
        "id": "C1zdgJkusRh0",
        "outputId": "a38666ee-c476-4014-9834-de5dd16e321c"
      },
      "source": [
        "# Note this is the 100 dimension version of GloVe from Stanford\n",
        "# I unzipped and hosted it on my site to make this notebook easier\n",
        "!wget --no-check-certificate \\\n",
        "    https://storage.googleapis.com/laurencemoroney-blog.appspot.com/glove.6B.100d.txt \\\n",
        "    -O /tmp/glove.6B.100d.txt\n",
        "embeddings_index = {};\n",
        "with open('/tmp/glove.6B.100d.txt') as f:\n",
        "    for line in f:\n",
        "        values = line.split();\n",
        "        word = values[0];\n",
        "        coefs = np.asarray(values[1:], dtype='float32');\n",
        "        embeddings_index[word] = coefs;\n",
        "\n",
        "embeddings_matrix = np.zeros((vocab_size+1, embedding_dim));\n",
        "for word, i in word_index.items():\n",
        "    embedding_vector = embeddings_index.get(word);\n",
        "    if embedding_vector is not None:\n",
        "        embeddings_matrix[i] = embedding_vector;"
      ],
      "execution_count": 32,
      "outputs": [
        {
          "output_type": "stream",
          "text": [
            "--2020-12-09 09:26:45--  https://storage.googleapis.com/laurencemoroney-blog.appspot.com/glove.6B.100d.txt\n",
            "Resolving storage.googleapis.com (storage.googleapis.com)... 172.217.13.80, 172.217.15.80, 172.253.122.128, ...\n",
            "Connecting to storage.googleapis.com (storage.googleapis.com)|172.217.13.80|:443... connected.\n",
            "HTTP request sent, awaiting response... 200 OK\n",
            "Length: 347116733 (331M) [text/plain]\n",
            "Saving to: ‘/tmp/glove.6B.100d.txt’\n",
            "\n",
            "/tmp/glove.6B.100d. 100%[===================>] 331.04M   129MB/s    in 2.6s    \n",
            "\n",
            "2020-12-09 09:26:48 (129 MB/s) - ‘/tmp/glove.6B.100d.txt’ saved [347116733/347116733]\n",
            "\n"
          ],
          "name": "stdout"
        }
      ]
    },
    {
      "cell_type": "code",
      "metadata": {
        "colab": {
          "base_uri": "https://localhost:8080/"
        },
        "id": "71NLk_lpFLNt",
        "outputId": "73fb5392-3aa4-49c3-db09-cb8dfdbfda80"
      },
      "source": [
        "print(len(embeddings_matrix))\n",
        "# Expected Output\n",
        "# 138859"
      ],
      "execution_count": 33,
      "outputs": [
        {
          "output_type": "stream",
          "text": [
            "26481\n"
          ],
          "name": "stdout"
        }
      ]
    },
    {
      "cell_type": "code",
      "metadata": {
        "colab": {
          "base_uri": "https://localhost:8080/"
        },
        "id": "iKKvbuEBOGFz",
        "outputId": "6363c2dc-0fe1-4aad-e000-d3841ca5d1ce"
      },
      "source": [
        "model = tf.keras.Sequential([\n",
        "    tf.keras.layers.Embedding(vocab_size+1, embedding_dim, input_length=max_length, weights=[embeddings_matrix], trainable=False),\n",
        "    # YOUR CODE HERE - experiment with combining different types, such as convolutions and LSTMs\n",
        "    tf.keras.layers.Dropout(0.2),\n",
        "    tf.keras.layers.Conv1D(64, 5, activation='relu'),\n",
        "    tf.keras.layers.MaxPooling1D(pool_size=4),\n",
        "    tf.keras.layers.LSTM(64),\n",
        "    tf.keras.layers.Dense(1, activation='sigmoid')\n",
        "])\n",
        "model.compile(loss='binary_crossentropy',optimizer='adam',metrics=['accuracy'])\n",
        "model.summary()\n",
        "\n",
        "num_epochs = 50\n",
        "history = model.fit(training_sequences, training_labels, epochs=num_epochs, validation_data=(test_sequences, test_labels), verbose=2)\n",
        "\n",
        "print(\"Training Complete\")\n"
      ],
      "execution_count": 35,
      "outputs": [
        {
          "output_type": "stream",
          "text": [
            "Model: \"sequential_9\"\n",
            "_________________________________________________________________\n",
            "Layer (type)                 Output Shape              Param #   \n",
            "=================================================================\n",
            "embedding_9 (Embedding)      (None, 16, 100)           2648100   \n",
            "_________________________________________________________________\n",
            "dropout_7 (Dropout)          (None, 16, 100)           0         \n",
            "_________________________________________________________________\n",
            "conv1d_6 (Conv1D)            (None, 12, 64)            32064     \n",
            "_________________________________________________________________\n",
            "max_pooling1d_6 (MaxPooling1 (None, 3, 64)             0         \n",
            "_________________________________________________________________\n",
            "lstm_5 (LSTM)                (None, 64)                33024     \n",
            "_________________________________________________________________\n",
            "dense_6 (Dense)              (None, 1)                 65        \n",
            "=================================================================\n",
            "Total params: 2,713,253\n",
            "Trainable params: 65,153\n",
            "Non-trainable params: 2,648,100\n",
            "_________________________________________________________________\n",
            "Epoch 1/50\n",
            "450/450 - 2s - loss: 0.6402 - accuracy: 0.6273 - val_loss: 0.5941 - val_accuracy: 0.6756\n",
            "Epoch 2/50\n",
            "450/450 - 2s - loss: 0.5677 - accuracy: 0.7009 - val_loss: 0.5535 - val_accuracy: 0.7125\n",
            "Epoch 3/50\n",
            "450/450 - 2s - loss: 0.5384 - accuracy: 0.7219 - val_loss: 0.5460 - val_accuracy: 0.7144\n",
            "Epoch 4/50\n",
            "450/450 - 2s - loss: 0.5034 - accuracy: 0.7496 - val_loss: 0.5634 - val_accuracy: 0.6975\n",
            "Epoch 5/50\n",
            "450/450 - 2s - loss: 0.4758 - accuracy: 0.7694 - val_loss: 0.5633 - val_accuracy: 0.7088\n",
            "Epoch 6/50\n",
            "450/450 - 1s - loss: 0.4471 - accuracy: 0.7877 - val_loss: 0.5808 - val_accuracy: 0.7019\n",
            "Epoch 7/50\n",
            "450/450 - 1s - loss: 0.4252 - accuracy: 0.7993 - val_loss: 0.5689 - val_accuracy: 0.7019\n",
            "Epoch 8/50\n",
            "450/450 - 2s - loss: 0.4019 - accuracy: 0.8141 - val_loss: 0.6117 - val_accuracy: 0.6869\n",
            "Epoch 9/50\n",
            "450/450 - 2s - loss: 0.3689 - accuracy: 0.8299 - val_loss: 0.6596 - val_accuracy: 0.6794\n",
            "Epoch 10/50\n",
            "450/450 - 2s - loss: 0.3554 - accuracy: 0.8421 - val_loss: 0.6286 - val_accuracy: 0.6944\n",
            "Epoch 11/50\n",
            "450/450 - 2s - loss: 0.3430 - accuracy: 0.8450 - val_loss: 0.6598 - val_accuracy: 0.6869\n",
            "Epoch 12/50\n",
            "450/450 - 2s - loss: 0.3259 - accuracy: 0.8563 - val_loss: 0.7024 - val_accuracy: 0.7000\n",
            "Epoch 13/50\n",
            "450/450 - 2s - loss: 0.3122 - accuracy: 0.8612 - val_loss: 0.6961 - val_accuracy: 0.6906\n",
            "Epoch 14/50\n",
            "450/450 - 1s - loss: 0.3024 - accuracy: 0.8665 - val_loss: 0.6658 - val_accuracy: 0.7050\n",
            "Epoch 15/50\n",
            "450/450 - 1s - loss: 0.2870 - accuracy: 0.8744 - val_loss: 0.7188 - val_accuracy: 0.7000\n",
            "Epoch 16/50\n",
            "450/450 - 1s - loss: 0.2791 - accuracy: 0.8776 - val_loss: 0.7109 - val_accuracy: 0.7025\n",
            "Epoch 17/50\n",
            "450/450 - 1s - loss: 0.2704 - accuracy: 0.8828 - val_loss: 0.7472 - val_accuracy: 0.6988\n",
            "Epoch 18/50\n",
            "450/450 - 1s - loss: 0.2604 - accuracy: 0.8883 - val_loss: 0.7546 - val_accuracy: 0.6938\n",
            "Epoch 19/50\n",
            "450/450 - 1s - loss: 0.2564 - accuracy: 0.8892 - val_loss: 0.7955 - val_accuracy: 0.7050\n",
            "Epoch 20/50\n",
            "450/450 - 1s - loss: 0.2453 - accuracy: 0.8945 - val_loss: 0.7701 - val_accuracy: 0.6975\n",
            "Epoch 21/50\n",
            "450/450 - 1s - loss: 0.2376 - accuracy: 0.8980 - val_loss: 0.8583 - val_accuracy: 0.6913\n",
            "Epoch 22/50\n",
            "450/450 - 1s - loss: 0.2394 - accuracy: 0.8988 - val_loss: 0.8372 - val_accuracy: 0.6806\n",
            "Epoch 23/50\n",
            "450/450 - 1s - loss: 0.2223 - accuracy: 0.9062 - val_loss: 0.8979 - val_accuracy: 0.6900\n",
            "Epoch 24/50\n",
            "450/450 - 2s - loss: 0.2156 - accuracy: 0.9106 - val_loss: 0.8656 - val_accuracy: 0.6988\n",
            "Epoch 25/50\n",
            "450/450 - 2s - loss: 0.2203 - accuracy: 0.9075 - val_loss: 0.8577 - val_accuracy: 0.6981\n",
            "Epoch 26/50\n",
            "450/450 - 1s - loss: 0.2092 - accuracy: 0.9133 - val_loss: 0.9509 - val_accuracy: 0.6881\n",
            "Epoch 27/50\n",
            "450/450 - 1s - loss: 0.2050 - accuracy: 0.9144 - val_loss: 0.9341 - val_accuracy: 0.6919\n",
            "Epoch 28/50\n",
            "450/450 - 1s - loss: 0.2008 - accuracy: 0.9166 - val_loss: 0.8858 - val_accuracy: 0.6856\n",
            "Epoch 29/50\n",
            "450/450 - 1s - loss: 0.1983 - accuracy: 0.9201 - val_loss: 0.9362 - val_accuracy: 0.6869\n",
            "Epoch 30/50\n",
            "450/450 - 1s - loss: 0.2009 - accuracy: 0.9151 - val_loss: 0.9123 - val_accuracy: 0.6650\n",
            "Epoch 31/50\n",
            "450/450 - 1s - loss: 0.1935 - accuracy: 0.9194 - val_loss: 0.9179 - val_accuracy: 0.6881\n",
            "Epoch 32/50\n",
            "450/450 - 1s - loss: 0.1818 - accuracy: 0.9261 - val_loss: 0.9568 - val_accuracy: 0.6812\n",
            "Epoch 33/50\n",
            "450/450 - 1s - loss: 0.1777 - accuracy: 0.9265 - val_loss: 0.9380 - val_accuracy: 0.6881\n",
            "Epoch 34/50\n",
            "450/450 - 1s - loss: 0.1802 - accuracy: 0.9244 - val_loss: 0.9708 - val_accuracy: 0.6969\n",
            "Epoch 35/50\n",
            "450/450 - 1s - loss: 0.1743 - accuracy: 0.9293 - val_loss: 0.9808 - val_accuracy: 0.6862\n",
            "Epoch 36/50\n",
            "450/450 - 1s - loss: 0.1714 - accuracy: 0.9299 - val_loss: 0.9466 - val_accuracy: 0.6925\n",
            "Epoch 37/50\n",
            "450/450 - 1s - loss: 0.1645 - accuracy: 0.9333 - val_loss: 1.0277 - val_accuracy: 0.6756\n",
            "Epoch 38/50\n",
            "450/450 - 1s - loss: 0.1665 - accuracy: 0.9328 - val_loss: 0.9837 - val_accuracy: 0.6731\n",
            "Epoch 39/50\n",
            "450/450 - 1s - loss: 0.1652 - accuracy: 0.9323 - val_loss: 1.0343 - val_accuracy: 0.6719\n",
            "Epoch 40/50\n",
            "450/450 - 1s - loss: 0.1538 - accuracy: 0.9377 - val_loss: 1.0661 - val_accuracy: 0.6775\n",
            "Epoch 41/50\n",
            "450/450 - 1s - loss: 0.1575 - accuracy: 0.9367 - val_loss: 1.0531 - val_accuracy: 0.6819\n",
            "Epoch 42/50\n",
            "450/450 - 1s - loss: 0.1625 - accuracy: 0.9343 - val_loss: 1.0773 - val_accuracy: 0.6919\n",
            "Epoch 43/50\n",
            "450/450 - 1s - loss: 0.1602 - accuracy: 0.9347 - val_loss: 1.0109 - val_accuracy: 0.6844\n",
            "Epoch 44/50\n",
            "450/450 - 1s - loss: 0.1522 - accuracy: 0.9386 - val_loss: 1.0021 - val_accuracy: 0.6869\n",
            "Epoch 45/50\n",
            "450/450 - 1s - loss: 0.1511 - accuracy: 0.9383 - val_loss: 1.0210 - val_accuracy: 0.6894\n",
            "Epoch 46/50\n",
            "450/450 - 1s - loss: 0.1446 - accuracy: 0.9424 - val_loss: 1.0436 - val_accuracy: 0.6875\n",
            "Epoch 47/50\n",
            "450/450 - 1s - loss: 0.1436 - accuracy: 0.9413 - val_loss: 1.0639 - val_accuracy: 0.6931\n",
            "Epoch 48/50\n",
            "450/450 - 1s - loss: 0.1413 - accuracy: 0.9456 - val_loss: 1.0511 - val_accuracy: 0.6975\n",
            "Epoch 49/50\n",
            "450/450 - 1s - loss: 0.1431 - accuracy: 0.9438 - val_loss: 1.0865 - val_accuracy: 0.6737\n",
            "Epoch 50/50\n",
            "450/450 - 1s - loss: 0.1342 - accuracy: 0.9481 - val_loss: 1.0480 - val_accuracy: 0.6900\n",
            "Training Complete\n"
          ],
          "name": "stdout"
        }
      ]
    },
    {
      "cell_type": "code",
      "metadata": {
        "colab": {
          "base_uri": "https://localhost:8080/",
          "height": 607
        },
        "id": "qxju4ItJKO8F",
        "outputId": "4e560739-e99c-4e62-f617-394dc1cf5328"
      },
      "source": [
        "import matplotlib.image  as mpimg\n",
        "import matplotlib.pyplot as plt\n",
        "\n",
        "#-----------------------------------------------------------\n",
        "# Retrieve a list of list results on training and test data\n",
        "# sets for each training epoch\n",
        "#-----------------------------------------------------------\n",
        "acc=history.history['accuracy']\n",
        "val_acc=history.history['val_accuracy']\n",
        "loss=history.history['loss']\n",
        "val_loss=history.history['val_loss']\n",
        "\n",
        "epochs=range(len(acc)) # Get number of epochs\n",
        "\n",
        "#------------------------------------------------\n",
        "# Plot training and validation accuracy per epoch\n",
        "#------------------------------------------------\n",
        "plt.plot(epochs, acc, 'r')\n",
        "plt.plot(epochs, val_acc, 'b')\n",
        "plt.title('Training and validation accuracy')\n",
        "plt.xlabel(\"Epochs\")\n",
        "plt.ylabel(\"Accuracy\")\n",
        "plt.legend([\"Accuracy\", \"Validation Accuracy\"])\n",
        "\n",
        "plt.figure()\n",
        "\n",
        "#------------------------------------------------\n",
        "# Plot training and validation loss per epoch\n",
        "#------------------------------------------------\n",
        "plt.plot(epochs, loss, 'r')\n",
        "plt.plot(epochs, val_loss, 'b')\n",
        "plt.title('Training and validation loss')\n",
        "plt.xlabel(\"Epochs\")\n",
        "plt.ylabel(\"Loss\")\n",
        "plt.legend([\"Loss\", \"Validation Loss\"])\n",
        "\n",
        "plt.figure()\n",
        "\n",
        "\n",
        "# Expected Output\n",
        "# A chart where the validation loss does not increase sharply!"
      ],
      "execution_count": 36,
      "outputs": [
        {
          "output_type": "execute_result",
          "data": {
            "text/plain": [
              "<Figure size 432x288 with 0 Axes>"
            ]
          },
          "metadata": {
            "tags": []
          },
          "execution_count": 36
        },
        {
          "output_type": "display_data",
          "data": {
            "image/png": "[encoded data removed]",
            "text/plain": [
              "<Figure size 432x288 with 1 Axes>"
            ]
          },
          "metadata": {
            "tags": [],
            "needs_background": "light"
          }
        },
        {
          "output_type": "display_data",
          "data": {
            "image/png": "[encoded data removed]",
            "text/plain": [
              "<Figure size 432x288 with 1 Axes>"
            ]
          },
          "metadata": {
            "tags": [],
            "needs_background": "light"
          }
        },
        {
          "output_type": "display_data",
          "data": {
            "text/plain": [
              "<Figure size 432x288 with 0 Axes>"
            ]
          },
          "metadata": {
            "tags": []
          }
        }
      ]
    },
    {
      "cell_type": "code",
      "metadata": {
        "id": "6MupdSj-xs8v"
      },
      "source": [
        ""
      ],
      "execution_count": null,
      "outputs": []
    }
  ]
}